{
  "cells": [
    {
      "cell_type": "markdown",
      "source": [
        "### Principal Portfolio Analysis: application of PCA for building simplified portfolios that can follow Brazilian stock market index Ibovespa performance"
      ],
      "metadata": {
        "id": "fpo5Cb273u1Y"
      }
    },
    {
      "cell_type": "markdown",
      "source": [
        "### Requirements"
      ],
      "metadata": {
        "id": "xsopmdZz3p1Z"
      }
    },
    {
      "cell_type": "code",
      "execution_count": null,
      "metadata": {
        "id": "U_dfGmpp23aQ"
      },
      "outputs": [],
      "source": [
        "%%capture\n",
        "\n",
        "import numpy as np\n",
        "import pandas as pd\n",
        "import matplotlib.pyplot as plt\n",
        "from pandas_datareader import data as web\n",
        "from sklearn.decomposition import PCA\n",
        "from sklearn.preprocessing import StandardScaler\n",
        "from sklearn.pipeline import make_pipeline"
      ]
    },
    {
      "cell_type": "code",
      "execution_count": null,
      "metadata": {
        "id": "kOlLHxT023ai"
      },
      "outputs": [],
      "source": [
        "df = pd.read_csv(r'cotacoes.csv', sep=',')"
      ]
    },
    {
      "cell_type": "markdown",
      "metadata": {
        "id": "jtJC6mQs23ak"
      },
      "source": [
        "### 67 stocks out of 82"
      ]
    },
    {
      "cell_type": "code",
      "execution_count": null,
      "metadata": {
        "id": "YIon0MrX23ap",
        "outputId": "4622a8a7-4b36-46c5-d4dc-eb8d6c758fd0"
      },
      "outputs": [
        {
          "data": {
            "text/html": [
              "<div>\n",
              "<style scoped>\n",
              "    .dataframe tbody tr th:only-of-type {\n",
              "        vertical-align: middle;\n",
              "    }\n",
              "\n",
              "    .dataframe tbody tr th {\n",
              "        vertical-align: top;\n",
              "    }\n",
              "\n",
              "    .dataframe thead th {\n",
              "        text-align: right;\n",
              "    }\n",
              "</style>\n",
              "<table border=\"1\" class=\"dataframe\">\n",
              "  <thead>\n",
              "    <tr style=\"text-align: right;\">\n",
              "      <th>ticker</th>\n",
              "      <th>ABEV3</th>\n",
              "      <th>B3SA3</th>\n",
              "      <th>BBAS3</th>\n",
              "      <th>BBDC3</th>\n",
              "      <th>BBDC4</th>\n",
              "      <th>BEEF3</th>\n",
              "      <th>BRAP4</th>\n",
              "      <th>BRFS3</th>\n",
              "      <th>BRKM5</th>\n",
              "      <th>BRML3</th>\n",
              "      <th>...</th>\n",
              "      <th>TAEE11</th>\n",
              "      <th>TIMS3</th>\n",
              "      <th>TOTS3</th>\n",
              "      <th>UGPA3</th>\n",
              "      <th>USIM5</th>\n",
              "      <th>VALE3</th>\n",
              "      <th>VIVT3</th>\n",
              "      <th>VVAR3</th>\n",
              "      <th>WEGE3</th>\n",
              "      <th>YDUQ3</th>\n",
              "    </tr>\n",
              "  </thead>\n",
              "  <tbody>\n",
              "    <tr>\n",
              "      <th>2011-06-30</th>\n",
              "      <td>-0.006952</td>\n",
              "      <td>-0.013462</td>\n",
              "      <td>0.006809</td>\n",
              "      <td>0.007497</td>\n",
              "      <td>0.004743</td>\n",
              "      <td>0.006154</td>\n",
              "      <td>0.014755</td>\n",
              "      <td>0.007040</td>\n",
              "      <td>-0.016904</td>\n",
              "      <td>0.003929</td>\n",
              "      <td>...</td>\n",
              "      <td>0.014389</td>\n",
              "      <td>0.011299</td>\n",
              "      <td>0.010471</td>\n",
              "      <td>0.000000</td>\n",
              "      <td>-0.007997</td>\n",
              "      <td>0.007097</td>\n",
              "      <td>0.013325</td>\n",
              "      <td>0.000000</td>\n",
              "      <td>-0.032065</td>\n",
              "      <td>0.012579</td>\n",
              "    </tr>\n",
              "    <tr>\n",
              "      <th>2011-07-01</th>\n",
              "      <td>0.010027</td>\n",
              "      <td>0.050955</td>\n",
              "      <td>0.004277</td>\n",
              "      <td>0.000747</td>\n",
              "      <td>0.003150</td>\n",
              "      <td>0.030214</td>\n",
              "      <td>0.034743</td>\n",
              "      <td>0.003766</td>\n",
              "      <td>0.004476</td>\n",
              "      <td>0.008368</td>\n",
              "      <td>...</td>\n",
              "      <td>0.000000</td>\n",
              "      <td>-0.010164</td>\n",
              "      <td>0.032454</td>\n",
              "      <td>0.000000</td>\n",
              "      <td>0.015212</td>\n",
              "      <td>0.043494</td>\n",
              "      <td>-0.010889</td>\n",
              "      <td>0.000000</td>\n",
              "      <td>0.020574</td>\n",
              "      <td>0.019803</td>\n",
              "    </tr>\n",
              "    <tr>\n",
              "      <th>2011-07-04</th>\n",
              "      <td>0.003714</td>\n",
              "      <td>-0.006461</td>\n",
              "      <td>0.010964</td>\n",
              "      <td>0.006074</td>\n",
              "      <td>0.014467</td>\n",
              "      <td>0.023531</td>\n",
              "      <td>0.012121</td>\n",
              "      <td>-0.001882</td>\n",
              "      <td>-0.010325</td>\n",
              "      <td>-0.016807</td>\n",
              "      <td>...</td>\n",
              "      <td>0.000000</td>\n",
              "      <td>-0.013714</td>\n",
              "      <td>0.001679</td>\n",
              "      <td>0.000000</td>\n",
              "      <td>0.022042</td>\n",
              "      <td>0.012688</td>\n",
              "      <td>-0.012240</td>\n",
              "      <td>0.000000</td>\n",
              "      <td>-0.009401</td>\n",
              "      <td>-0.004914</td>\n",
              "    </tr>\n",
              "    <tr>\n",
              "      <th>2011-07-05</th>\n",
              "      <td>0.007847</td>\n",
              "      <td>-0.023420</td>\n",
              "      <td>-0.004936</td>\n",
              "      <td>0.001483</td>\n",
              "      <td>-0.003417</td>\n",
              "      <td>-0.013659</td>\n",
              "      <td>-0.014563</td>\n",
              "      <td>-0.001885</td>\n",
              "      <td>-0.011346</td>\n",
              "      <td>0.001693</td>\n",
              "      <td>...</td>\n",
              "      <td>-0.058840</td>\n",
              "      <td>-0.002304</td>\n",
              "      <td>-0.000336</td>\n",
              "      <td>0.000000</td>\n",
              "      <td>-0.017022</td>\n",
              "      <td>-0.020261</td>\n",
              "      <td>0.015883</td>\n",
              "      <td>0.000000</td>\n",
              "      <td>0.017076</td>\n",
              "      <td>0.016125</td>\n",
              "    </tr>\n",
              "    <tr>\n",
              "      <th>2011-07-06</th>\n",
              "      <td>0.004587</td>\n",
              "      <td>-0.007612</td>\n",
              "      <td>-0.008520</td>\n",
              "      <td>-0.014555</td>\n",
              "      <td>-0.012208</td>\n",
              "      <td>0.011719</td>\n",
              "      <td>-0.002448</td>\n",
              "      <td>-0.037682</td>\n",
              "      <td>-0.016103</td>\n",
              "      <td>-0.021665</td>\n",
              "      <td>...</td>\n",
              "      <td>0.000000</td>\n",
              "      <td>0.008041</td>\n",
              "      <td>-0.015562</td>\n",
              "      <td>0.000000</td>\n",
              "      <td>-0.012959</td>\n",
              "      <td>-0.003319</td>\n",
              "      <td>-0.001213</td>\n",
              "      <td>0.000000</td>\n",
              "      <td>0.036991</td>\n",
              "      <td>-0.011211</td>\n",
              "    </tr>\n",
              "    <tr>\n",
              "      <th>...</th>\n",
              "      <td>...</td>\n",
              "      <td>...</td>\n",
              "      <td>...</td>\n",
              "      <td>...</td>\n",
              "      <td>...</td>\n",
              "      <td>...</td>\n",
              "      <td>...</td>\n",
              "      <td>...</td>\n",
              "      <td>...</td>\n",
              "      <td>...</td>\n",
              "      <td>...</td>\n",
              "      <td>...</td>\n",
              "      <td>...</td>\n",
              "      <td>...</td>\n",
              "      <td>...</td>\n",
              "      <td>...</td>\n",
              "      <td>...</td>\n",
              "      <td>...</td>\n",
              "      <td>...</td>\n",
              "      <td>...</td>\n",
              "      <td>...</td>\n",
              "    </tr>\n",
              "    <tr>\n",
              "      <th>2021-05-25</th>\n",
              "      <td>-0.001135</td>\n",
              "      <td>-0.026126</td>\n",
              "      <td>-0.013472</td>\n",
              "      <td>-0.009817</td>\n",
              "      <td>-0.005040</td>\n",
              "      <td>-0.002037</td>\n",
              "      <td>-0.026069</td>\n",
              "      <td>-0.013444</td>\n",
              "      <td>0.001185</td>\n",
              "      <td>0.001845</td>\n",
              "      <td>...</td>\n",
              "      <td>-0.004009</td>\n",
              "      <td>-0.002493</td>\n",
              "      <td>0.017360</td>\n",
              "      <td>-0.014706</td>\n",
              "      <td>-0.031395</td>\n",
              "      <td>-0.025182</td>\n",
              "      <td>0.002255</td>\n",
              "      <td>-0.002411</td>\n",
              "      <td>0.009753</td>\n",
              "      <td>0.036238</td>\n",
              "    </tr>\n",
              "    <tr>\n",
              "      <th>2021-05-26</th>\n",
              "      <td>-0.007982</td>\n",
              "      <td>0.005865</td>\n",
              "      <td>0.016509</td>\n",
              "      <td>0.023489</td>\n",
              "      <td>0.022672</td>\n",
              "      <td>0.000000</td>\n",
              "      <td>0.016012</td>\n",
              "      <td>-0.011669</td>\n",
              "      <td>0.017997</td>\n",
              "      <td>0.010087</td>\n",
              "      <td>...</td>\n",
              "      <td>-0.002011</td>\n",
              "      <td>0.006634</td>\n",
              "      <td>-0.005450</td>\n",
              "      <td>0.022496</td>\n",
              "      <td>0.011513</td>\n",
              "      <td>0.029001</td>\n",
              "      <td>-0.008825</td>\n",
              "      <td>0.006415</td>\n",
              "      <td>-0.005170</td>\n",
              "      <td>-0.014403</td>\n",
              "    </tr>\n",
              "    <tr>\n",
              "      <th>2021-05-27</th>\n",
              "      <td>0.012514</td>\n",
              "      <td>-0.007042</td>\n",
              "      <td>0.013552</td>\n",
              "      <td>0.003061</td>\n",
              "      <td>0.006061</td>\n",
              "      <td>0.023175</td>\n",
              "      <td>0.004179</td>\n",
              "      <td>0.012828</td>\n",
              "      <td>0.004063</td>\n",
              "      <td>0.003643</td>\n",
              "      <td>...</td>\n",
              "      <td>-0.006309</td>\n",
              "      <td>-0.004971</td>\n",
              "      <td>0.019838</td>\n",
              "      <td>-0.004667</td>\n",
              "      <td>-0.003567</td>\n",
              "      <td>0.007143</td>\n",
              "      <td>0.001590</td>\n",
              "      <td>0.016647</td>\n",
              "      <td>0.000305</td>\n",
              "      <td>0.064599</td>\n",
              "    </tr>\n",
              "    <tr>\n",
              "      <th>2021-05-28</th>\n",
              "      <td>0.009004</td>\n",
              "      <td>0.029021</td>\n",
              "      <td>0.003285</td>\n",
              "      <td>-0.001748</td>\n",
              "      <td>0.002263</td>\n",
              "      <td>-0.017077</td>\n",
              "      <td>0.005450</td>\n",
              "      <td>-0.005422</td>\n",
              "      <td>-0.000966</td>\n",
              "      <td>0.026907</td>\n",
              "      <td>...</td>\n",
              "      <td>-0.010178</td>\n",
              "      <td>0.004144</td>\n",
              "      <td>-0.001489</td>\n",
              "      <td>-0.009400</td>\n",
              "      <td>0.000510</td>\n",
              "      <td>0.005391</td>\n",
              "      <td>0.001134</td>\n",
              "      <td>0.000000</td>\n",
              "      <td>0.047323</td>\n",
              "      <td>0.003620</td>\n",
              "    </tr>\n",
              "    <tr>\n",
              "      <th>2021-05-31</th>\n",
              "      <td>0.005587</td>\n",
              "      <td>0.003427</td>\n",
              "      <td>-0.001492</td>\n",
              "      <td>0.000000</td>\n",
              "      <td>-0.002263</td>\n",
              "      <td>0.004044</td>\n",
              "      <td>0.018282</td>\n",
              "      <td>0.000388</td>\n",
              "      <td>-0.032809</td>\n",
              "      <td>-0.010676</td>\n",
              "      <td>...</td>\n",
              "      <td>-0.009250</td>\n",
              "      <td>0.006595</td>\n",
              "      <td>0.027053</td>\n",
              "      <td>0.012513</td>\n",
              "      <td>0.013178</td>\n",
              "      <td>0.028186</td>\n",
              "      <td>0.001812</td>\n",
              "      <td>0.020234</td>\n",
              "      <td>-0.007294</td>\n",
              "      <td>-0.009378</td>\n",
              "    </tr>\n",
              "  </tbody>\n",
              "</table>\n",
              "<p>2456 rows × 67 columns</p>\n",
              "</div>"
            ],
            "text/plain": [
              "ticker         ABEV3     B3SA3     BBAS3     BBDC3     BBDC4     BEEF3  \\\n",
              "2011-06-30 -0.006952 -0.013462  0.006809  0.007497  0.004743  0.006154   \n",
              "2011-07-01  0.010027  0.050955  0.004277  0.000747  0.003150  0.030214   \n",
              "2011-07-04  0.003714 -0.006461  0.010964  0.006074  0.014467  0.023531   \n",
              "2011-07-05  0.007847 -0.023420 -0.004936  0.001483 -0.003417 -0.013659   \n",
              "2011-07-06  0.004587 -0.007612 -0.008520 -0.014555 -0.012208  0.011719   \n",
              "...              ...       ...       ...       ...       ...       ...   \n",
              "2021-05-25 -0.001135 -0.026126 -0.013472 -0.009817 -0.005040 -0.002037   \n",
              "2021-05-26 -0.007982  0.005865  0.016509  0.023489  0.022672  0.000000   \n",
              "2021-05-27  0.012514 -0.007042  0.013552  0.003061  0.006061  0.023175   \n",
              "2021-05-28  0.009004  0.029021  0.003285 -0.001748  0.002263 -0.017077   \n",
              "2021-05-31  0.005587  0.003427 -0.001492  0.000000 -0.002263  0.004044   \n",
              "\n",
              "ticker         BRAP4     BRFS3     BRKM5     BRML3  ...    TAEE11     TIMS3  \\\n",
              "2011-06-30  0.014755  0.007040 -0.016904  0.003929  ...  0.014389  0.011299   \n",
              "2011-07-01  0.034743  0.003766  0.004476  0.008368  ...  0.000000 -0.010164   \n",
              "2011-07-04  0.012121 -0.001882 -0.010325 -0.016807  ...  0.000000 -0.013714   \n",
              "2011-07-05 -0.014563 -0.001885 -0.011346  0.001693  ... -0.058840 -0.002304   \n",
              "2011-07-06 -0.002448 -0.037682 -0.016103 -0.021665  ...  0.000000  0.008041   \n",
              "...              ...       ...       ...       ...  ...       ...       ...   \n",
              "2021-05-25 -0.026069 -0.013444  0.001185  0.001845  ... -0.004009 -0.002493   \n",
              "2021-05-26  0.016012 -0.011669  0.017997  0.010087  ... -0.002011  0.006634   \n",
              "2021-05-27  0.004179  0.012828  0.004063  0.003643  ... -0.006309 -0.004971   \n",
              "2021-05-28  0.005450 -0.005422 -0.000966  0.026907  ... -0.010178  0.004144   \n",
              "2021-05-31  0.018282  0.000388 -0.032809 -0.010676  ... -0.009250  0.006595   \n",
              "\n",
              "ticker         TOTS3     UGPA3     USIM5     VALE3     VIVT3     VVAR3  \\\n",
              "2011-06-30  0.010471  0.000000 -0.007997  0.007097  0.013325  0.000000   \n",
              "2011-07-01  0.032454  0.000000  0.015212  0.043494 -0.010889  0.000000   \n",
              "2011-07-04  0.001679  0.000000  0.022042  0.012688 -0.012240  0.000000   \n",
              "2011-07-05 -0.000336  0.000000 -0.017022 -0.020261  0.015883  0.000000   \n",
              "2011-07-06 -0.015562  0.000000 -0.012959 -0.003319 -0.001213  0.000000   \n",
              "...              ...       ...       ...       ...       ...       ...   \n",
              "2021-05-25  0.017360 -0.014706 -0.031395 -0.025182  0.002255 -0.002411   \n",
              "2021-05-26 -0.005450  0.022496  0.011513  0.029001 -0.008825  0.006415   \n",
              "2021-05-27  0.019838 -0.004667 -0.003567  0.007143  0.001590  0.016647   \n",
              "2021-05-28 -0.001489 -0.009400  0.000510  0.005391  0.001134  0.000000   \n",
              "2021-05-31  0.027053  0.012513  0.013178  0.028186  0.001812  0.020234   \n",
              "\n",
              "ticker         WEGE3     YDUQ3  \n",
              "2011-06-30 -0.032065  0.012579  \n",
              "2011-07-01  0.020574  0.019803  \n",
              "2011-07-04 -0.009401 -0.004914  \n",
              "2011-07-05  0.017076  0.016125  \n",
              "2011-07-06  0.036991 -0.011211  \n",
              "...              ...       ...  \n",
              "2021-05-25  0.009753  0.036238  \n",
              "2021-05-26 -0.005170 -0.014403  \n",
              "2021-05-27  0.000305  0.064599  \n",
              "2021-05-28  0.047323  0.003620  \n",
              "2021-05-31 -0.007294 -0.009378  \n",
              "\n",
              "[2456 rows x 67 columns]"
            ]
          },
          "execution_count": 3,
          "metadata": {},
          "output_type": "execute_result"
        }
      ],
      "source": [
        "# Passando ações para colunas\n",
        "df = df.set_index(['ref.date','ticker'])\n",
        "df = df.unstack(level=-1)\n",
        "\n",
        "# Consertando o visual\n",
        "df = df['ret.adjusted.prices']\n",
        "df = df.rename_axis(None)\n",
        "df.columns = df.columns.str.rstrip('.SA')\n",
        "\n",
        "# Retirando nulos\n",
        "df = df.dropna(axis=0)\n",
        "df"
      ]
    },
    {
      "cell_type": "code",
      "execution_count": null,
      "metadata": {
        "id": "9JW9RWL323as",
        "outputId": "40c6363f-392f-4bf8-bcf8-183931181afc"
      },
      "outputs": [
        {
          "data": {
            "text/html": [
              "<div>\n",
              "<style scoped>\n",
              "    .dataframe tbody tr th:only-of-type {\n",
              "        vertical-align: middle;\n",
              "    }\n",
              "\n",
              "    .dataframe tbody tr th {\n",
              "        vertical-align: top;\n",
              "    }\n",
              "\n",
              "    .dataframe thead th {\n",
              "        text-align: right;\n",
              "    }\n",
              "</style>\n",
              "<table border=\"1\" class=\"dataframe\">\n",
              "  <thead>\n",
              "    <tr style=\"text-align: right;\">\n",
              "      <th></th>\n",
              "      <th>Adj Close</th>\n",
              "    </tr>\n",
              "    <tr>\n",
              "      <th>Date</th>\n",
              "      <th></th>\n",
              "    </tr>\n",
              "  </thead>\n",
              "  <tbody>\n",
              "    <tr>\n",
              "      <th>2011-06-30</th>\n",
              "      <td>0.001122</td>\n",
              "    </tr>\n",
              "    <tr>\n",
              "      <th>2011-07-01</th>\n",
              "      <td>0.015740</td>\n",
              "    </tr>\n",
              "    <tr>\n",
              "      <th>2011-07-04</th>\n",
              "      <td>0.007809</td>\n",
              "    </tr>\n",
              "    <tr>\n",
              "      <th>2011-07-05</th>\n",
              "      <td>-0.013425</td>\n",
              "    </tr>\n",
              "    <tr>\n",
              "      <th>2011-07-06</th>\n",
              "      <td>-0.007548</td>\n",
              "    </tr>\n",
              "    <tr>\n",
              "      <th>...</th>\n",
              "      <td>...</td>\n",
              "    </tr>\n",
              "    <tr>\n",
              "      <th>2021-05-26</th>\n",
              "      <td>0.008106</td>\n",
              "    </tr>\n",
              "    <tr>\n",
              "      <th>2021-05-27</th>\n",
              "      <td>0.003044</td>\n",
              "    </tr>\n",
              "    <tr>\n",
              "      <th>2021-05-28</th>\n",
              "      <td>0.009555</td>\n",
              "    </tr>\n",
              "    <tr>\n",
              "      <th>2021-05-31</th>\n",
              "      <td>0.005203</td>\n",
              "    </tr>\n",
              "    <tr>\n",
              "      <th>2021-06-01</th>\n",
              "      <td>0.016119</td>\n",
              "    </tr>\n",
              "  </tbody>\n",
              "</table>\n",
              "<p>2450 rows × 1 columns</p>\n",
              "</div>"
            ],
            "text/plain": [
              "            Adj Close\n",
              "Date                 \n",
              "2011-06-30   0.001122\n",
              "2011-07-01   0.015740\n",
              "2011-07-04   0.007809\n",
              "2011-07-05  -0.013425\n",
              "2011-07-06  -0.007548\n",
              "...               ...\n",
              "2021-05-26   0.008106\n",
              "2021-05-27   0.003044\n",
              "2021-05-28   0.009555\n",
              "2021-05-31   0.005203\n",
              "2021-06-01   0.016119\n",
              "\n",
              "[2450 rows x 1 columns]"
            ]
          },
          "execution_count": 4,
          "metadata": {},
          "output_type": "execute_result"
        }
      ],
      "source": [
        "ibov = web.DataReader(f'^BVSP', data_source='yahoo', start=f'06-29-2011', end='06-01-2021')\n",
        "ibov_ret = ibov[['Adj Close']]\n",
        "ibov_ret = np.log(ibov_ret[['Adj Close']] / ibov_ret[['Adj Close']].shift(1))\n",
        "ibov_ret = ibov_ret.dropna(axis=0)\n",
        "ibov_ret"
      ]
    },
    {
      "cell_type": "markdown",
      "metadata": {
        "id": "xE4__oqm23au"
      },
      "source": [
        "### PCA modeling"
      ]
    },
    {
      "cell_type": "code",
      "execution_count": null,
      "metadata": {
        "id": "8y1KQFEh23aw",
        "outputId": "40246609-6652-4ac2-ecf3-bf1e0fe8e51c"
      },
      "outputs": [
        {
          "data": {
            "image/png": "[encoded data removed]",
            "text/plain": [
              "<Figure size 720x360 with 1 Axes>"
            ]
          },
          "metadata": {
            "needs_background": "light"
          },
          "output_type": "display_data"
        }
      ],
      "source": [
        "# Normalize data\n",
        "df_norm = (df - np.mean(df, axis=0)) / np.std(df, axis=0)\n",
        "\n",
        "# Create scaler: scaler\n",
        "scaler = StandardScaler()\n",
        "\n",
        "# Create a PCA instance: pca\n",
        "pca = PCA()\n",
        "\n",
        "# Create pipeline: pipeline\n",
        "pipeline = make_pipeline(scaler, pca)\n",
        "\n",
        "# Fit the pipeline to 'samples'\n",
        "pipeline.fit(df_norm)\n",
        "\n",
        "# Plot the explained variances\n",
        "features = range(pca.n_components_)\n",
        "plt.figure(figsize=(10, 5))\n",
        "plt.plot(features, pca.explained_variance_, 'ro-', linewidth=2, color='navy')\n",
        "plt.xlabel('PCA feature')\n",
        "plt.ylabel('variance')\n",
        "plt.xticks(features)\n",
        "plt.ylim([0,25])\n",
        "plt.show()"
      ]
    },
    {
      "cell_type": "code",
      "execution_count": null,
      "metadata": {
        "id": "XVREEcKF23ay",
        "outputId": "1af9d849-6ac2-460e-9efb-ae73418edc06"
      },
      "outputs": [
        {
          "data": {
            "text/html": [
              "<div>\n",
              "<style scoped>\n",
              "    .dataframe tbody tr th:only-of-type {\n",
              "        vertical-align: middle;\n",
              "    }\n",
              "\n",
              "    .dataframe tbody tr th {\n",
              "        vertical-align: top;\n",
              "    }\n",
              "\n",
              "    .dataframe thead th {\n",
              "        text-align: right;\n",
              "    }\n",
              "</style>\n",
              "<table border=\"1\" class=\"dataframe\">\n",
              "  <thead>\n",
              "    <tr style=\"text-align: right;\">\n",
              "      <th>ticker</th>\n",
              "      <th>ABEV3</th>\n",
              "      <th>B3SA3</th>\n",
              "      <th>BBAS3</th>\n",
              "      <th>BBDC3</th>\n",
              "      <th>BBDC4</th>\n",
              "      <th>BEEF3</th>\n",
              "      <th>BRAP4</th>\n",
              "      <th>BRFS3</th>\n",
              "      <th>BRKM5</th>\n",
              "      <th>BRML3</th>\n",
              "      <th>...</th>\n",
              "      <th>TAEE11</th>\n",
              "      <th>TIMS3</th>\n",
              "      <th>TOTS3</th>\n",
              "      <th>UGPA3</th>\n",
              "      <th>USIM5</th>\n",
              "      <th>VALE3</th>\n",
              "      <th>VIVT3</th>\n",
              "      <th>VVAR3</th>\n",
              "      <th>WEGE3</th>\n",
              "      <th>YDUQ3</th>\n",
              "    </tr>\n",
              "    <tr>\n",
              "      <th>ticker</th>\n",
              "      <th></th>\n",
              "      <th></th>\n",
              "      <th></th>\n",
              "      <th></th>\n",
              "      <th></th>\n",
              "      <th></th>\n",
              "      <th></th>\n",
              "      <th></th>\n",
              "      <th></th>\n",
              "      <th></th>\n",
              "      <th></th>\n",
              "      <th></th>\n",
              "      <th></th>\n",
              "      <th></th>\n",
              "      <th></th>\n",
              "      <th></th>\n",
              "      <th></th>\n",
              "      <th></th>\n",
              "      <th></th>\n",
              "      <th></th>\n",
              "      <th></th>\n",
              "    </tr>\n",
              "  </thead>\n",
              "  <tbody>\n",
              "    <tr>\n",
              "      <th>ABEV3</th>\n",
              "      <td>1.00</td>\n",
              "      <td>0.40</td>\n",
              "      <td>0.39</td>\n",
              "      <td>0.48</td>\n",
              "      <td>0.47</td>\n",
              "      <td>0.22</td>\n",
              "      <td>0.29</td>\n",
              "      <td>0.35</td>\n",
              "      <td>0.30</td>\n",
              "      <td>0.40</td>\n",
              "      <td>...</td>\n",
              "      <td>0.21</td>\n",
              "      <td>0.30</td>\n",
              "      <td>0.28</td>\n",
              "      <td>0.42</td>\n",
              "      <td>0.27</td>\n",
              "      <td>0.27</td>\n",
              "      <td>0.29</td>\n",
              "      <td>0.16</td>\n",
              "      <td>0.37</td>\n",
              "      <td>0.30</td>\n",
              "    </tr>\n",
              "    <tr>\n",
              "      <th>B3SA3</th>\n",
              "      <td>0.40</td>\n",
              "      <td>1.00</td>\n",
              "      <td>0.60</td>\n",
              "      <td>0.63</td>\n",
              "      <td>0.63</td>\n",
              "      <td>0.23</td>\n",
              "      <td>0.38</td>\n",
              "      <td>0.34</td>\n",
              "      <td>0.36</td>\n",
              "      <td>0.55</td>\n",
              "      <td>...</td>\n",
              "      <td>0.30</td>\n",
              "      <td>0.33</td>\n",
              "      <td>0.36</td>\n",
              "      <td>0.49</td>\n",
              "      <td>0.40</td>\n",
              "      <td>0.36</td>\n",
              "      <td>0.28</td>\n",
              "      <td>0.22</td>\n",
              "      <td>0.38</td>\n",
              "      <td>0.36</td>\n",
              "    </tr>\n",
              "    <tr>\n",
              "      <th>BBAS3</th>\n",
              "      <td>0.39</td>\n",
              "      <td>0.60</td>\n",
              "      <td>1.00</td>\n",
              "      <td>0.76</td>\n",
              "      <td>0.77</td>\n",
              "      <td>0.19</td>\n",
              "      <td>0.39</td>\n",
              "      <td>0.34</td>\n",
              "      <td>0.35</td>\n",
              "      <td>0.57</td>\n",
              "      <td>...</td>\n",
              "      <td>0.31</td>\n",
              "      <td>0.34</td>\n",
              "      <td>0.31</td>\n",
              "      <td>0.49</td>\n",
              "      <td>0.46</td>\n",
              "      <td>0.37</td>\n",
              "      <td>0.32</td>\n",
              "      <td>0.25</td>\n",
              "      <td>0.32</td>\n",
              "      <td>0.41</td>\n",
              "    </tr>\n",
              "    <tr>\n",
              "      <th>BBDC3</th>\n",
              "      <td>0.48</td>\n",
              "      <td>0.63</td>\n",
              "      <td>0.76</td>\n",
              "      <td>1.00</td>\n",
              "      <td>0.92</td>\n",
              "      <td>0.20</td>\n",
              "      <td>0.41</td>\n",
              "      <td>0.39</td>\n",
              "      <td>0.39</td>\n",
              "      <td>0.58</td>\n",
              "      <td>...</td>\n",
              "      <td>0.31</td>\n",
              "      <td>0.38</td>\n",
              "      <td>0.32</td>\n",
              "      <td>0.53</td>\n",
              "      <td>0.43</td>\n",
              "      <td>0.38</td>\n",
              "      <td>0.34</td>\n",
              "      <td>0.24</td>\n",
              "      <td>0.39</td>\n",
              "      <td>0.41</td>\n",
              "    </tr>\n",
              "    <tr>\n",
              "      <th>BBDC4</th>\n",
              "      <td>0.47</td>\n",
              "      <td>0.63</td>\n",
              "      <td>0.77</td>\n",
              "      <td>0.92</td>\n",
              "      <td>1.00</td>\n",
              "      <td>0.21</td>\n",
              "      <td>0.42</td>\n",
              "      <td>0.39</td>\n",
              "      <td>0.38</td>\n",
              "      <td>0.59</td>\n",
              "      <td>...</td>\n",
              "      <td>0.30</td>\n",
              "      <td>0.39</td>\n",
              "      <td>0.30</td>\n",
              "      <td>0.52</td>\n",
              "      <td>0.44</td>\n",
              "      <td>0.40</td>\n",
              "      <td>0.33</td>\n",
              "      <td>0.23</td>\n",
              "      <td>0.37</td>\n",
              "      <td>0.41</td>\n",
              "    </tr>\n",
              "    <tr>\n",
              "      <th>...</th>\n",
              "      <td>...</td>\n",
              "      <td>...</td>\n",
              "      <td>...</td>\n",
              "      <td>...</td>\n",
              "      <td>...</td>\n",
              "      <td>...</td>\n",
              "      <td>...</td>\n",
              "      <td>...</td>\n",
              "      <td>...</td>\n",
              "      <td>...</td>\n",
              "      <td>...</td>\n",
              "      <td>...</td>\n",
              "      <td>...</td>\n",
              "      <td>...</td>\n",
              "      <td>...</td>\n",
              "      <td>...</td>\n",
              "      <td>...</td>\n",
              "      <td>...</td>\n",
              "      <td>...</td>\n",
              "      <td>...</td>\n",
              "      <td>...</td>\n",
              "    </tr>\n",
              "    <tr>\n",
              "      <th>VALE3</th>\n",
              "      <td>0.27</td>\n",
              "      <td>0.36</td>\n",
              "      <td>0.37</td>\n",
              "      <td>0.38</td>\n",
              "      <td>0.40</td>\n",
              "      <td>0.24</td>\n",
              "      <td>0.90</td>\n",
              "      <td>0.25</td>\n",
              "      <td>0.35</td>\n",
              "      <td>0.28</td>\n",
              "      <td>...</td>\n",
              "      <td>0.16</td>\n",
              "      <td>0.29</td>\n",
              "      <td>0.22</td>\n",
              "      <td>0.30</td>\n",
              "      <td>0.49</td>\n",
              "      <td>1.00</td>\n",
              "      <td>0.25</td>\n",
              "      <td>0.15</td>\n",
              "      <td>0.24</td>\n",
              "      <td>0.22</td>\n",
              "    </tr>\n",
              "    <tr>\n",
              "      <th>VIVT3</th>\n",
              "      <td>0.29</td>\n",
              "      <td>0.28</td>\n",
              "      <td>0.32</td>\n",
              "      <td>0.34</td>\n",
              "      <td>0.33</td>\n",
              "      <td>0.17</td>\n",
              "      <td>0.25</td>\n",
              "      <td>0.21</td>\n",
              "      <td>0.21</td>\n",
              "      <td>0.31</td>\n",
              "      <td>...</td>\n",
              "      <td>0.21</td>\n",
              "      <td>0.40</td>\n",
              "      <td>0.20</td>\n",
              "      <td>0.31</td>\n",
              "      <td>0.20</td>\n",
              "      <td>0.25</td>\n",
              "      <td>1.00</td>\n",
              "      <td>0.17</td>\n",
              "      <td>0.21</td>\n",
              "      <td>0.23</td>\n",
              "    </tr>\n",
              "    <tr>\n",
              "      <th>VVAR3</th>\n",
              "      <td>0.16</td>\n",
              "      <td>0.22</td>\n",
              "      <td>0.25</td>\n",
              "      <td>0.24</td>\n",
              "      <td>0.23</td>\n",
              "      <td>0.15</td>\n",
              "      <td>0.15</td>\n",
              "      <td>0.18</td>\n",
              "      <td>0.20</td>\n",
              "      <td>0.24</td>\n",
              "      <td>...</td>\n",
              "      <td>0.14</td>\n",
              "      <td>0.18</td>\n",
              "      <td>0.18</td>\n",
              "      <td>0.26</td>\n",
              "      <td>0.20</td>\n",
              "      <td>0.15</td>\n",
              "      <td>0.17</td>\n",
              "      <td>1.00</td>\n",
              "      <td>0.20</td>\n",
              "      <td>0.22</td>\n",
              "    </tr>\n",
              "    <tr>\n",
              "      <th>WEGE3</th>\n",
              "      <td>0.37</td>\n",
              "      <td>0.38</td>\n",
              "      <td>0.32</td>\n",
              "      <td>0.39</td>\n",
              "      <td>0.37</td>\n",
              "      <td>0.24</td>\n",
              "      <td>0.26</td>\n",
              "      <td>0.31</td>\n",
              "      <td>0.28</td>\n",
              "      <td>0.32</td>\n",
              "      <td>...</td>\n",
              "      <td>0.22</td>\n",
              "      <td>0.26</td>\n",
              "      <td>0.34</td>\n",
              "      <td>0.34</td>\n",
              "      <td>0.23</td>\n",
              "      <td>0.24</td>\n",
              "      <td>0.21</td>\n",
              "      <td>0.20</td>\n",
              "      <td>1.00</td>\n",
              "      <td>0.29</td>\n",
              "    </tr>\n",
              "    <tr>\n",
              "      <th>YDUQ3</th>\n",
              "      <td>0.30</td>\n",
              "      <td>0.36</td>\n",
              "      <td>0.41</td>\n",
              "      <td>0.41</td>\n",
              "      <td>0.41</td>\n",
              "      <td>0.16</td>\n",
              "      <td>0.24</td>\n",
              "      <td>0.24</td>\n",
              "      <td>0.28</td>\n",
              "      <td>0.43</td>\n",
              "      <td>...</td>\n",
              "      <td>0.23</td>\n",
              "      <td>0.26</td>\n",
              "      <td>0.28</td>\n",
              "      <td>0.37</td>\n",
              "      <td>0.27</td>\n",
              "      <td>0.22</td>\n",
              "      <td>0.23</td>\n",
              "      <td>0.22</td>\n",
              "      <td>0.29</td>\n",
              "      <td>1.00</td>\n",
              "    </tr>\n",
              "  </tbody>\n",
              "</table>\n",
              "<p>67 rows × 67 columns</p>\n",
              "</div>"
            ],
            "text/plain": [
              "ticker  ABEV3  B3SA3  BBAS3  BBDC3  BBDC4  BEEF3  BRAP4  BRFS3  BRKM5  BRML3  \\\n",
              "ticker                                                                         \n",
              "ABEV3    1.00   0.40   0.39   0.48   0.47   0.22   0.29   0.35   0.30   0.40   \n",
              "B3SA3    0.40   1.00   0.60   0.63   0.63   0.23   0.38   0.34   0.36   0.55   \n",
              "BBAS3    0.39   0.60   1.00   0.76   0.77   0.19   0.39   0.34   0.35   0.57   \n",
              "BBDC3    0.48   0.63   0.76   1.00   0.92   0.20   0.41   0.39   0.39   0.58   \n",
              "BBDC4    0.47   0.63   0.77   0.92   1.00   0.21   0.42   0.39   0.38   0.59   \n",
              "...       ...    ...    ...    ...    ...    ...    ...    ...    ...    ...   \n",
              "VALE3    0.27   0.36   0.37   0.38   0.40   0.24   0.90   0.25   0.35   0.28   \n",
              "VIVT3    0.29   0.28   0.32   0.34   0.33   0.17   0.25   0.21   0.21   0.31   \n",
              "VVAR3    0.16   0.22   0.25   0.24   0.23   0.15   0.15   0.18   0.20   0.24   \n",
              "WEGE3    0.37   0.38   0.32   0.39   0.37   0.24   0.26   0.31   0.28   0.32   \n",
              "YDUQ3    0.30   0.36   0.41   0.41   0.41   0.16   0.24   0.24   0.28   0.43   \n",
              "\n",
              "ticker  ...  TAEE11  TIMS3  TOTS3  UGPA3  USIM5  VALE3  VIVT3  VVAR3  WEGE3  \\\n",
              "ticker  ...                                                                   \n",
              "ABEV3   ...    0.21   0.30   0.28   0.42   0.27   0.27   0.29   0.16   0.37   \n",
              "B3SA3   ...    0.30   0.33   0.36   0.49   0.40   0.36   0.28   0.22   0.38   \n",
              "BBAS3   ...    0.31   0.34   0.31   0.49   0.46   0.37   0.32   0.25   0.32   \n",
              "BBDC3   ...    0.31   0.38   0.32   0.53   0.43   0.38   0.34   0.24   0.39   \n",
              "BBDC4   ...    0.30   0.39   0.30   0.52   0.44   0.40   0.33   0.23   0.37   \n",
              "...     ...     ...    ...    ...    ...    ...    ...    ...    ...    ...   \n",
              "VALE3   ...    0.16   0.29   0.22   0.30   0.49   1.00   0.25   0.15   0.24   \n",
              "VIVT3   ...    0.21   0.40   0.20   0.31   0.20   0.25   1.00   0.17   0.21   \n",
              "VVAR3   ...    0.14   0.18   0.18   0.26   0.20   0.15   0.17   1.00   0.20   \n",
              "WEGE3   ...    0.22   0.26   0.34   0.34   0.23   0.24   0.21   0.20   1.00   \n",
              "YDUQ3   ...    0.23   0.26   0.28   0.37   0.27   0.22   0.23   0.22   0.29   \n",
              "\n",
              "ticker  YDUQ3  \n",
              "ticker         \n",
              "ABEV3    0.30  \n",
              "B3SA3    0.36  \n",
              "BBAS3    0.41  \n",
              "BBDC3    0.41  \n",
              "BBDC4    0.41  \n",
              "...       ...  \n",
              "VALE3    0.22  \n",
              "VIVT3    0.23  \n",
              "VVAR3    0.22  \n",
              "WEGE3    0.29  \n",
              "YDUQ3    1.00  \n",
              "\n",
              "[67 rows x 67 columns]"
            ]
          },
          "execution_count": 6,
          "metadata": {},
          "output_type": "execute_result"
        }
      ],
      "source": [
        "df_norm.cov().round(2)"
      ]
    },
    {
      "cell_type": "markdown",
      "metadata": {
        "id": "IzCWj0Tf23az"
      },
      "source": [
        "### Kaiser"
      ]
    },
    {
      "cell_type": "code",
      "execution_count": null,
      "metadata": {
        "scrolled": true,
        "id": "Xxgqy0eM23a1",
        "outputId": "c7ce2110-214b-489f-8374-c53223f53c5c"
      },
      "outputs": [
        {
          "data": {
            "text/plain": [
              "10"
            ]
          },
          "execution_count": 7,
          "metadata": {},
          "output_type": "execute_result"
        }
      ],
      "source": [
        "kaiser = sum(pca.explained_variance_ >= 1)\n",
        "kaiser"
      ]
    },
    {
      "cell_type": "markdown",
      "metadata": {
        "id": "SLmOG_pO23a4"
      },
      "source": [
        "### Bi-plots"
      ]
    },
    {
      "cell_type": "code",
      "execution_count": null,
      "metadata": {
        "id": "S374oIeo23a5",
        "outputId": "702929b6-caa2-4773-c4b1-05a440b34b51"
      },
      "outputs": [
        {
          "data": {
            "text/plain": [
              "<matplotlib.lines.Line2D at 0x1a7b5849608>"
            ]
          },
          "execution_count": 8,
          "metadata": {},
          "output_type": "execute_result"
        },
        {
          "data": {
            "image/png": "[encoded data removed]",
            "text/plain": [
              "<Figure size 432x288 with 1 Axes>"
            ]
          },
          "metadata": {
            "needs_background": "light"
          },
          "output_type": "display_data"
        }
      ],
      "source": [
        "plt.scatter(pca.components_[0], pca.components_[1])\n",
        "plt.axvline(x=0, color='black', linestyle='-')\n",
        "plt.axhline(y=0, color='black', linestyle='-')"
      ]
    },
    {
      "cell_type": "code",
      "execution_count": null,
      "metadata": {
        "id": "1vxjadG723a7",
        "outputId": "6392d1d5-c843-4c9e-adb0-08655e307aa3"
      },
      "outputs": [
        {
          "data": {
            "text/html": [
              "<div>\n",
              "<style scoped>\n",
              "    .dataframe tbody tr th:only-of-type {\n",
              "        vertical-align: middle;\n",
              "    }\n",
              "\n",
              "    .dataframe tbody tr th {\n",
              "        vertical-align: top;\n",
              "    }\n",
              "\n",
              "    .dataframe thead th {\n",
              "        text-align: right;\n",
              "    }\n",
              "</style>\n",
              "<table border=\"1\" class=\"dataframe\">\n",
              "  <thead>\n",
              "    <tr style=\"text-align: right;\">\n",
              "      <th></th>\n",
              "      <th>0</th>\n",
              "      <th>1</th>\n",
              "      <th>2</th>\n",
              "      <th>3</th>\n",
              "      <th>4</th>\n",
              "      <th>5</th>\n",
              "      <th>6</th>\n",
              "      <th>7</th>\n",
              "      <th>8</th>\n",
              "      <th>9</th>\n",
              "    </tr>\n",
              "  </thead>\n",
              "  <tbody>\n",
              "    <tr>\n",
              "      <th>0</th>\n",
              "      <td>-0.117775</td>\n",
              "      <td>-0.023641</td>\n",
              "      <td>0.038244</td>\n",
              "      <td>-0.036563</td>\n",
              "      <td>-0.169866</td>\n",
              "      <td>-0.169991</td>\n",
              "      <td>0.192511</td>\n",
              "      <td>-0.023954</td>\n",
              "      <td>0.076251</td>\n",
              "      <td>-0.012820</td>\n",
              "    </tr>\n",
              "    <tr>\n",
              "      <th>1</th>\n",
              "      <td>-0.152811</td>\n",
              "      <td>-0.023367</td>\n",
              "      <td>-0.053479</td>\n",
              "      <td>-0.043802</td>\n",
              "      <td>-0.022245</td>\n",
              "      <td>0.091169</td>\n",
              "      <td>-0.076565</td>\n",
              "      <td>-0.054551</td>\n",
              "      <td>-0.030562</td>\n",
              "      <td>0.080173</td>\n",
              "    </tr>\n",
              "    <tr>\n",
              "      <th>2</th>\n",
              "      <td>-0.160064</td>\n",
              "      <td>0.006222</td>\n",
              "      <td>-0.217776</td>\n",
              "      <td>-0.084176</td>\n",
              "      <td>-0.044701</td>\n",
              "      <td>0.098086</td>\n",
              "      <td>-0.015507</td>\n",
              "      <td>-0.058491</td>\n",
              "      <td>-0.039561</td>\n",
              "      <td>0.044149</td>\n",
              "    </tr>\n",
              "    <tr>\n",
              "      <th>3</th>\n",
              "      <td>-0.166334</td>\n",
              "      <td>-0.004313</td>\n",
              "      <td>-0.229749</td>\n",
              "      <td>-0.146497</td>\n",
              "      <td>-0.143342</td>\n",
              "      <td>0.033003</td>\n",
              "      <td>0.100983</td>\n",
              "      <td>-0.094319</td>\n",
              "      <td>0.000925</td>\n",
              "      <td>0.026639</td>\n",
              "    </tr>\n",
              "    <tr>\n",
              "      <th>4</th>\n",
              "      <td>-0.166509</td>\n",
              "      <td>0.016243</td>\n",
              "      <td>-0.245506</td>\n",
              "      <td>-0.166863</td>\n",
              "      <td>-0.143456</td>\n",
              "      <td>0.047067</td>\n",
              "      <td>0.082630</td>\n",
              "      <td>-0.068533</td>\n",
              "      <td>-0.002783</td>\n",
              "      <td>0.008466</td>\n",
              "    </tr>\n",
              "    <tr>\n",
              "      <th>...</th>\n",
              "      <td>...</td>\n",
              "      <td>...</td>\n",
              "      <td>...</td>\n",
              "      <td>...</td>\n",
              "      <td>...</td>\n",
              "      <td>...</td>\n",
              "      <td>...</td>\n",
              "      <td>...</td>\n",
              "      <td>...</td>\n",
              "      <td>...</td>\n",
              "    </tr>\n",
              "    <tr>\n",
              "      <th>62</th>\n",
              "      <td>-0.107626</td>\n",
              "      <td>0.378540</td>\n",
              "      <td>0.027026</td>\n",
              "      <td>0.025272</td>\n",
              "      <td>0.019081</td>\n",
              "      <td>-0.165108</td>\n",
              "      <td>-0.073718</td>\n",
              "      <td>0.061581</td>\n",
              "      <td>-0.037922</td>\n",
              "      <td>-0.013485</td>\n",
              "    </tr>\n",
              "    <tr>\n",
              "      <th>63</th>\n",
              "      <td>-0.091284</td>\n",
              "      <td>-0.022084</td>\n",
              "      <td>0.019722</td>\n",
              "      <td>0.076322</td>\n",
              "      <td>-0.183487</td>\n",
              "      <td>-0.266559</td>\n",
              "      <td>-0.087750</td>\n",
              "      <td>0.100432</td>\n",
              "      <td>-0.104119</td>\n",
              "      <td>-0.089651</td>\n",
              "    </tr>\n",
              "    <tr>\n",
              "      <th>64</th>\n",
              "      <td>-0.072997</td>\n",
              "      <td>-0.025368</td>\n",
              "      <td>0.163567</td>\n",
              "      <td>-0.003981</td>\n",
              "      <td>0.203304</td>\n",
              "      <td>-0.054004</td>\n",
              "      <td>0.091336</td>\n",
              "      <td>-0.139630</td>\n",
              "      <td>-0.034040</td>\n",
              "      <td>0.142519</td>\n",
              "    </tr>\n",
              "    <tr>\n",
              "      <th>65</th>\n",
              "      <td>-0.105798</td>\n",
              "      <td>-0.026617</td>\n",
              "      <td>0.172923</td>\n",
              "      <td>-0.034521</td>\n",
              "      <td>-0.093131</td>\n",
              "      <td>-0.144236</td>\n",
              "      <td>0.121417</td>\n",
              "      <td>-0.205403</td>\n",
              "      <td>0.013473</td>\n",
              "      <td>0.199103</td>\n",
              "    </tr>\n",
              "    <tr>\n",
              "      <th>66</th>\n",
              "      <td>-0.112775</td>\n",
              "      <td>-0.084669</td>\n",
              "      <td>0.047799</td>\n",
              "      <td>-0.114992</td>\n",
              "      <td>0.114748</td>\n",
              "      <td>-0.117433</td>\n",
              "      <td>-0.032857</td>\n",
              "      <td>0.082977</td>\n",
              "      <td>0.123258</td>\n",
              "      <td>0.030693</td>\n",
              "    </tr>\n",
              "  </tbody>\n",
              "</table>\n",
              "<p>67 rows × 10 columns</p>\n",
              "</div>"
            ],
            "text/plain": [
              "           0         1         2         3         4         5         6  \\\n",
              "0  -0.117775 -0.023641  0.038244 -0.036563 -0.169866 -0.169991  0.192511   \n",
              "1  -0.152811 -0.023367 -0.053479 -0.043802 -0.022245  0.091169 -0.076565   \n",
              "2  -0.160064  0.006222 -0.217776 -0.084176 -0.044701  0.098086 -0.015507   \n",
              "3  -0.166334 -0.004313 -0.229749 -0.146497 -0.143342  0.033003  0.100983   \n",
              "4  -0.166509  0.016243 -0.245506 -0.166863 -0.143456  0.047067  0.082630   \n",
              "..       ...       ...       ...       ...       ...       ...       ...   \n",
              "62 -0.107626  0.378540  0.027026  0.025272  0.019081 -0.165108 -0.073718   \n",
              "63 -0.091284 -0.022084  0.019722  0.076322 -0.183487 -0.266559 -0.087750   \n",
              "64 -0.072997 -0.025368  0.163567 -0.003981  0.203304 -0.054004  0.091336   \n",
              "65 -0.105798 -0.026617  0.172923 -0.034521 -0.093131 -0.144236  0.121417   \n",
              "66 -0.112775 -0.084669  0.047799 -0.114992  0.114748 -0.117433 -0.032857   \n",
              "\n",
              "           7         8         9  \n",
              "0  -0.023954  0.076251 -0.012820  \n",
              "1  -0.054551 -0.030562  0.080173  \n",
              "2  -0.058491 -0.039561  0.044149  \n",
              "3  -0.094319  0.000925  0.026639  \n",
              "4  -0.068533 -0.002783  0.008466  \n",
              "..       ...       ...       ...  \n",
              "62  0.061581 -0.037922 -0.013485  \n",
              "63  0.100432 -0.104119 -0.089651  \n",
              "64 -0.139630 -0.034040  0.142519  \n",
              "65 -0.205403  0.013473  0.199103  \n",
              "66  0.082977  0.123258  0.030693  \n",
              "\n",
              "[67 rows x 10 columns]"
            ]
          },
          "execution_count": 12,
          "metadata": {},
          "output_type": "execute_result"
        }
      ],
      "source": [
        "pd.DataFrame(pca.components_)[0:kaiser].T"
      ]
    },
    {
      "cell_type": "markdown",
      "metadata": {
        "id": "igwoybLf23a8"
      },
      "source": [
        "### Principal Portfolios weights"
      ]
    },
    {
      "cell_type": "code",
      "execution_count": null,
      "metadata": {
        "id": "hTq-pCHG23a9"
      },
      "outputs": [],
      "source": [
        "pps = pd.DataFrame(pca.components_)[0:kaiser].T # Autovetores\n",
        "w_long = []\n",
        "w_short = []\n",
        "\n",
        "for i in range(len(pps.columns)):\n",
        "    w_long.append(pps.loc[pps[i] >= 0, i].sum())\n",
        "    w_short.append(pps.loc[pps[i] < 0, i].sum())"
      ]
    },
    {
      "cell_type": "code",
      "execution_count": null,
      "metadata": {
        "id": "5JXLOow623a_",
        "outputId": "f6e50670-d728-4697-b9cd-4b1d8bd874fc"
      },
      "outputs": [
        {
          "data": {
            "text/html": [
              "<div>\n",
              "<style scoped>\n",
              "    .dataframe tbody tr th:only-of-type {\n",
              "        vertical-align: middle;\n",
              "    }\n",
              "\n",
              "    .dataframe tbody tr th {\n",
              "        vertical-align: top;\n",
              "    }\n",
              "\n",
              "    .dataframe thead th {\n",
              "        text-align: right;\n",
              "    }\n",
              "</style>\n",
              "<table border=\"1\" class=\"dataframe\">\n",
              "  <thead>\n",
              "    <tr style=\"text-align: right;\">\n",
              "      <th></th>\n",
              "      <th>0</th>\n",
              "      <th>1</th>\n",
              "      <th>2</th>\n",
              "      <th>3</th>\n",
              "      <th>4</th>\n",
              "      <th>5</th>\n",
              "      <th>6</th>\n",
              "      <th>7</th>\n",
              "      <th>8</th>\n",
              "      <th>9</th>\n",
              "    </tr>\n",
              "  </thead>\n",
              "  <tbody>\n",
              "    <tr>\n",
              "      <th>0</th>\n",
              "      <td>0.014867</td>\n",
              "      <td>-0.008552</td>\n",
              "      <td>0.009882</td>\n",
              "      <td>-0.013460</td>\n",
              "      <td>-0.048449</td>\n",
              "      <td>-0.051404</td>\n",
              "      <td>0.059035</td>\n",
              "      <td>-0.007651</td>\n",
              "      <td>0.036732</td>\n",
              "      <td>-0.004060</td>\n",
              "    </tr>\n",
              "    <tr>\n",
              "      <th>1</th>\n",
              "      <td>0.019290</td>\n",
              "      <td>-0.008453</td>\n",
              "      <td>-0.021580</td>\n",
              "      <td>-0.016125</td>\n",
              "      <td>-0.006345</td>\n",
              "      <td>0.030928</td>\n",
              "      <td>-0.027366</td>\n",
              "      <td>-0.017423</td>\n",
              "      <td>-0.010811</td>\n",
              "      <td>0.026098</td>\n",
              "    </tr>\n",
              "    <tr>\n",
              "      <th>2</th>\n",
              "      <td>0.020205</td>\n",
              "      <td>0.002132</td>\n",
              "      <td>-0.087878</td>\n",
              "      <td>-0.030988</td>\n",
              "      <td>-0.012750</td>\n",
              "      <td>0.033274</td>\n",
              "      <td>-0.005542</td>\n",
              "      <td>-0.018681</td>\n",
              "      <td>-0.013994</td>\n",
              "      <td>0.014371</td>\n",
              "    </tr>\n",
              "    <tr>\n",
              "      <th>3</th>\n",
              "      <td>0.020997</td>\n",
              "      <td>-0.001560</td>\n",
              "      <td>-0.092710</td>\n",
              "      <td>-0.053930</td>\n",
              "      <td>-0.040884</td>\n",
              "      <td>0.011196</td>\n",
              "      <td>0.030967</td>\n",
              "      <td>-0.030125</td>\n",
              "      <td>0.000445</td>\n",
              "      <td>0.008671</td>\n",
              "    </tr>\n",
              "    <tr>\n",
              "      <th>4</th>\n",
              "      <td>0.021019</td>\n",
              "      <td>0.005565</td>\n",
              "      <td>-0.099068</td>\n",
              "      <td>-0.061427</td>\n",
              "      <td>-0.040917</td>\n",
              "      <td>0.015967</td>\n",
              "      <td>0.025339</td>\n",
              "      <td>-0.021889</td>\n",
              "      <td>-0.000984</td>\n",
              "      <td>0.002756</td>\n",
              "    </tr>\n",
              "    <tr>\n",
              "      <th>...</th>\n",
              "      <td>...</td>\n",
              "      <td>...</td>\n",
              "      <td>...</td>\n",
              "      <td>...</td>\n",
              "      <td>...</td>\n",
              "      <td>...</td>\n",
              "      <td>...</td>\n",
              "      <td>...</td>\n",
              "      <td>...</td>\n",
              "      <td>...</td>\n",
              "    </tr>\n",
              "    <tr>\n",
              "      <th>62</th>\n",
              "      <td>0.013586</td>\n",
              "      <td>0.129691</td>\n",
              "      <td>0.006983</td>\n",
              "      <td>0.007598</td>\n",
              "      <td>0.005766</td>\n",
              "      <td>-0.049927</td>\n",
              "      <td>-0.026348</td>\n",
              "      <td>0.022010</td>\n",
              "      <td>-0.013414</td>\n",
              "      <td>-0.004270</td>\n",
              "    </tr>\n",
              "    <tr>\n",
              "      <th>63</th>\n",
              "      <td>0.011523</td>\n",
              "      <td>-0.007989</td>\n",
              "      <td>0.005096</td>\n",
              "      <td>0.022946</td>\n",
              "      <td>-0.052334</td>\n",
              "      <td>-0.080606</td>\n",
              "      <td>-0.031363</td>\n",
              "      <td>0.035896</td>\n",
              "      <td>-0.036830</td>\n",
              "      <td>-0.028389</td>\n",
              "    </tr>\n",
              "    <tr>\n",
              "      <th>64</th>\n",
              "      <td>0.009215</td>\n",
              "      <td>-0.009177</td>\n",
              "      <td>0.042264</td>\n",
              "      <td>-0.001466</td>\n",
              "      <td>0.061433</td>\n",
              "      <td>-0.016330</td>\n",
              "      <td>0.028009</td>\n",
              "      <td>-0.044596</td>\n",
              "      <td>-0.012041</td>\n",
              "      <td>0.046393</td>\n",
              "    </tr>\n",
              "    <tr>\n",
              "      <th>65</th>\n",
              "      <td>0.013355</td>\n",
              "      <td>-0.009629</td>\n",
              "      <td>0.044681</td>\n",
              "      <td>-0.012708</td>\n",
              "      <td>-0.026563</td>\n",
              "      <td>-0.043616</td>\n",
              "      <td>0.037234</td>\n",
              "      <td>-0.065603</td>\n",
              "      <td>0.006490</td>\n",
              "      <td>0.064812</td>\n",
              "    </tr>\n",
              "    <tr>\n",
              "      <th>66</th>\n",
              "      <td>0.014236</td>\n",
              "      <td>-0.030629</td>\n",
              "      <td>0.012351</td>\n",
              "      <td>-0.042332</td>\n",
              "      <td>0.034674</td>\n",
              "      <td>-0.035511</td>\n",
              "      <td>-0.011744</td>\n",
              "      <td>0.029658</td>\n",
              "      <td>0.059376</td>\n",
              "      <td>0.009991</td>\n",
              "    </tr>\n",
              "  </tbody>\n",
              "</table>\n",
              "<p>67 rows × 10 columns</p>\n",
              "</div>"
            ],
            "text/plain": [
              "           0         1         2         3         4         5         6  \\\n",
              "0   0.014867 -0.008552  0.009882 -0.013460 -0.048449 -0.051404  0.059035   \n",
              "1   0.019290 -0.008453 -0.021580 -0.016125 -0.006345  0.030928 -0.027366   \n",
              "2   0.020205  0.002132 -0.087878 -0.030988 -0.012750  0.033274 -0.005542   \n",
              "3   0.020997 -0.001560 -0.092710 -0.053930 -0.040884  0.011196  0.030967   \n",
              "4   0.021019  0.005565 -0.099068 -0.061427 -0.040917  0.015967  0.025339   \n",
              "..       ...       ...       ...       ...       ...       ...       ...   \n",
              "62  0.013586  0.129691  0.006983  0.007598  0.005766 -0.049927 -0.026348   \n",
              "63  0.011523 -0.007989  0.005096  0.022946 -0.052334 -0.080606 -0.031363   \n",
              "64  0.009215 -0.009177  0.042264 -0.001466  0.061433 -0.016330  0.028009   \n",
              "65  0.013355 -0.009629  0.044681 -0.012708 -0.026563 -0.043616  0.037234   \n",
              "66  0.014236 -0.030629  0.012351 -0.042332  0.034674 -0.035511 -0.011744   \n",
              "\n",
              "           7         8         9  \n",
              "0  -0.007651  0.036732 -0.004060  \n",
              "1  -0.017423 -0.010811  0.026098  \n",
              "2  -0.018681 -0.013994  0.014371  \n",
              "3  -0.030125  0.000445  0.008671  \n",
              "4  -0.021889 -0.000984  0.002756  \n",
              "..       ...       ...       ...  \n",
              "62  0.022010 -0.013414 -0.004270  \n",
              "63  0.035896 -0.036830 -0.028389  \n",
              "64 -0.044596 -0.012041  0.046393  \n",
              "65 -0.065603  0.006490  0.064812  \n",
              "66  0.029658  0.059376  0.009991  \n",
              "\n",
              "[67 rows x 10 columns]"
            ]
          },
          "execution_count": 14,
          "metadata": {},
          "output_type": "execute_result"
        }
      ],
      "source": [
        "pps_weights = pps.copy()\n",
        "\n",
        "for col in pps.columns:\n",
        "    for index, value in enumerate(pps[col], start=0):\n",
        "        is_positive = value >= 0\n",
        "        \n",
        "        if is_positive:\n",
        "            weight = value / w_long[col]\n",
        "        else:\n",
        "            weight = value / abs(w_short[col])\n",
        "            \n",
        "        pps_weights.loc[index, col] = weight        \n",
        "\n",
        "pps_weights[0] = pps_weights[0]*-1\n",
        "pps_weights"
      ]
    },
    {
      "cell_type": "markdown",
      "metadata": {
        "id": "mkxvKTmD23bB"
      },
      "source": [
        "### Portfolio Returns"
      ]
    },
    {
      "cell_type": "code",
      "execution_count": null,
      "metadata": {
        "id": "9N-sjx7E23bC",
        "outputId": "a09e3951-3949-40ee-9ad0-7ff2f0841f2f"
      },
      "outputs": [
        {
          "data": {
            "text/html": [
              "<div>\n",
              "<style scoped>\n",
              "    .dataframe tbody tr th:only-of-type {\n",
              "        vertical-align: middle;\n",
              "    }\n",
              "\n",
              "    .dataframe tbody tr th {\n",
              "        vertical-align: top;\n",
              "    }\n",
              "\n",
              "    .dataframe thead th {\n",
              "        text-align: right;\n",
              "    }\n",
              "</style>\n",
              "<table border=\"1\" class=\"dataframe\">\n",
              "  <thead>\n",
              "    <tr style=\"text-align: right;\">\n",
              "      <th></th>\n",
              "      <th>0</th>\n",
              "      <th>1</th>\n",
              "      <th>2</th>\n",
              "      <th>3</th>\n",
              "      <th>4</th>\n",
              "      <th>5</th>\n",
              "      <th>6</th>\n",
              "      <th>7</th>\n",
              "      <th>8</th>\n",
              "      <th>9</th>\n",
              "    </tr>\n",
              "  </thead>\n",
              "  <tbody>\n",
              "    <tr>\n",
              "      <th>2011-06-30</th>\n",
              "      <td>-0.001354</td>\n",
              "      <td>0.011917</td>\n",
              "      <td>-0.003501</td>\n",
              "      <td>4.450360e-03</td>\n",
              "      <td>-0.014986</td>\n",
              "      <td>0.002313</td>\n",
              "      <td>0.004379</td>\n",
              "      <td>0.008088</td>\n",
              "      <td>-0.009273</td>\n",
              "      <td>0.002628</td>\n",
              "    </tr>\n",
              "    <tr>\n",
              "      <th>2011-07-01</th>\n",
              "      <td>0.007976</td>\n",
              "      <td>0.015365</td>\n",
              "      <td>0.012066</td>\n",
              "      <td>-1.154768e-02</td>\n",
              "      <td>0.007761</td>\n",
              "      <td>0.006916</td>\n",
              "      <td>-0.003287</td>\n",
              "      <td>0.008760</td>\n",
              "      <td>-0.003752</td>\n",
              "      <td>0.004830</td>\n",
              "    </tr>\n",
              "    <tr>\n",
              "      <th>2011-07-04</th>\n",
              "      <td>0.004661</td>\n",
              "      <td>0.012941</td>\n",
              "      <td>0.000052</td>\n",
              "      <td>8.402004e-05</td>\n",
              "      <td>-0.000675</td>\n",
              "      <td>0.001145</td>\n",
              "      <td>-0.001248</td>\n",
              "      <td>0.002170</td>\n",
              "      <td>0.003972</td>\n",
              "      <td>0.000318</td>\n",
              "    </tr>\n",
              "    <tr>\n",
              "      <th>2011-07-05</th>\n",
              "      <td>-0.007195</td>\n",
              "      <td>-0.006412</td>\n",
              "      <td>0.000501</td>\n",
              "      <td>-2.767470e-03</td>\n",
              "      <td>-0.004639</td>\n",
              "      <td>-0.010489</td>\n",
              "      <td>0.007978</td>\n",
              "      <td>0.005290</td>\n",
              "      <td>-0.004681</td>\n",
              "      <td>0.003746</td>\n",
              "    </tr>\n",
              "    <tr>\n",
              "      <th>2011-07-06</th>\n",
              "      <td>-0.008738</td>\n",
              "      <td>0.002181</td>\n",
              "      <td>0.004301</td>\n",
              "      <td>4.363197e-03</td>\n",
              "      <td>-0.003450</td>\n",
              "      <td>-0.012236</td>\n",
              "      <td>0.004635</td>\n",
              "      <td>0.004856</td>\n",
              "      <td>-0.007427</td>\n",
              "      <td>0.003713</td>\n",
              "    </tr>\n",
              "    <tr>\n",
              "      <th>...</th>\n",
              "      <td>...</td>\n",
              "      <td>...</td>\n",
              "      <td>...</td>\n",
              "      <td>...</td>\n",
              "      <td>...</td>\n",
              "      <td>...</td>\n",
              "      <td>...</td>\n",
              "      <td>...</td>\n",
              "      <td>...</td>\n",
              "      <td>...</td>\n",
              "    </tr>\n",
              "    <tr>\n",
              "      <th>2021-05-25</th>\n",
              "      <td>-0.000224</td>\n",
              "      <td>-0.026089</td>\n",
              "      <td>0.008607</td>\n",
              "      <td>-4.394378e-07</td>\n",
              "      <td>0.006018</td>\n",
              "      <td>0.001403</td>\n",
              "      <td>0.005744</td>\n",
              "      <td>-0.006180</td>\n",
              "      <td>-0.003395</td>\n",
              "      <td>-0.006368</td>\n",
              "    </tr>\n",
              "    <tr>\n",
              "      <th>2021-05-26</th>\n",
              "      <td>0.007345</td>\n",
              "      <td>0.007013</td>\n",
              "      <td>-0.011616</td>\n",
              "      <td>-1.039854e-02</td>\n",
              "      <td>0.008916</td>\n",
              "      <td>0.005389</td>\n",
              "      <td>0.000297</td>\n",
              "      <td>0.009498</td>\n",
              "      <td>-0.003540</td>\n",
              "      <td>-0.005676</td>\n",
              "    </tr>\n",
              "    <tr>\n",
              "      <th>2021-05-27</th>\n",
              "      <td>0.006577</td>\n",
              "      <td>-0.003784</td>\n",
              "      <td>0.010409</td>\n",
              "      <td>-4.674691e-03</td>\n",
              "      <td>0.009830</td>\n",
              "      <td>-0.007046</td>\n",
              "      <td>0.013422</td>\n",
              "      <td>0.002728</td>\n",
              "      <td>0.006686</td>\n",
              "      <td>-0.006146</td>\n",
              "    </tr>\n",
              "    <tr>\n",
              "      <th>2021-05-28</th>\n",
              "      <td>0.004379</td>\n",
              "      <td>-0.001914</td>\n",
              "      <td>-0.001926</td>\n",
              "      <td>-1.241143e-02</td>\n",
              "      <td>0.001466</td>\n",
              "      <td>0.006425</td>\n",
              "      <td>-0.004623</td>\n",
              "      <td>-0.001493</td>\n",
              "      <td>-0.019557</td>\n",
              "      <td>0.012534</td>\n",
              "    </tr>\n",
              "    <tr>\n",
              "      <th>2021-05-31</th>\n",
              "      <td>0.001287</td>\n",
              "      <td>0.011415</td>\n",
              "      <td>0.002939</td>\n",
              "      <td>7.471782e-04</td>\n",
              "      <td>0.000759</td>\n",
              "      <td>-0.002076</td>\n",
              "      <td>-0.000404</td>\n",
              "      <td>-0.008034</td>\n",
              "      <td>-0.013425</td>\n",
              "      <td>0.010400</td>\n",
              "    </tr>\n",
              "  </tbody>\n",
              "</table>\n",
              "<p>2456 rows × 10 columns</p>\n",
              "</div>"
            ],
            "text/plain": [
              "                   0         1         2             3         4         5  \\\n",
              "2011-06-30 -0.001354  0.011917 -0.003501  4.450360e-03 -0.014986  0.002313   \n",
              "2011-07-01  0.007976  0.015365  0.012066 -1.154768e-02  0.007761  0.006916   \n",
              "2011-07-04  0.004661  0.012941  0.000052  8.402004e-05 -0.000675  0.001145   \n",
              "2011-07-05 -0.007195 -0.006412  0.000501 -2.767470e-03 -0.004639 -0.010489   \n",
              "2011-07-06 -0.008738  0.002181  0.004301  4.363197e-03 -0.003450 -0.012236   \n",
              "...              ...       ...       ...           ...       ...       ...   \n",
              "2021-05-25 -0.000224 -0.026089  0.008607 -4.394378e-07  0.006018  0.001403   \n",
              "2021-05-26  0.007345  0.007013 -0.011616 -1.039854e-02  0.008916  0.005389   \n",
              "2021-05-27  0.006577 -0.003784  0.010409 -4.674691e-03  0.009830 -0.007046   \n",
              "2021-05-28  0.004379 -0.001914 -0.001926 -1.241143e-02  0.001466  0.006425   \n",
              "2021-05-31  0.001287  0.011415  0.002939  7.471782e-04  0.000759 -0.002076   \n",
              "\n",
              "                   6         7         8         9  \n",
              "2011-06-30  0.004379  0.008088 -0.009273  0.002628  \n",
              "2011-07-01 -0.003287  0.008760 -0.003752  0.004830  \n",
              "2011-07-04 -0.001248  0.002170  0.003972  0.000318  \n",
              "2011-07-05  0.007978  0.005290 -0.004681  0.003746  \n",
              "2011-07-06  0.004635  0.004856 -0.007427  0.003713  \n",
              "...              ...       ...       ...       ...  \n",
              "2021-05-25  0.005744 -0.006180 -0.003395 -0.006368  \n",
              "2021-05-26  0.000297  0.009498 -0.003540 -0.005676  \n",
              "2021-05-27  0.013422  0.002728  0.006686 -0.006146  \n",
              "2021-05-28 -0.004623 -0.001493 -0.019557  0.012534  \n",
              "2021-05-31 -0.000404 -0.008034 -0.013425  0.010400  \n",
              "\n",
              "[2456 rows x 10 columns]"
            ]
          },
          "execution_count": 15,
          "metadata": {},
          "output_type": "execute_result"
        }
      ],
      "source": [
        "pps_stocks = pps_weights.T\n",
        "pps_stocks.columns = df.columns\n",
        "portfolios = pps_stocks.T\n",
        "\n",
        "pps_returns = pd.DataFrame(np.dot(df,portfolios))\n",
        "pps_returns.index = df.index\n",
        "\n",
        "pps_returns"
      ]
    },
    {
      "cell_type": "markdown",
      "metadata": {
        "id": "2GSXpn7h23bE"
      },
      "source": [
        "### Volatility and VaR"
      ]
    },
    {
      "cell_type": "code",
      "execution_count": null,
      "metadata": {
        "id": "lPFhVxhY23bE",
        "outputId": "7467681a-b481-418a-b698-6035a56724f8"
      },
      "outputs": [
        {
          "name": "stdout",
          "output_type": "stream",
          "text": [
            "0.01099358056653663\n",
            "3.2484462966008034\n"
          ]
        }
      ],
      "source": [
        "stats = pps_returns.describe().T\n",
        "\n",
        "exp_ret = np.array(stats['mean'])\n",
        "port_exp_ret = [i * 0.1 for i in exp_ret]\n",
        "ret_port = sum(port_exp_ret)\n",
        "\n",
        "exp_vol = np.array(stats['std'])\n",
        "port_exp_vol = [i * 0.1 for i in exp_vol]\n",
        "vol_port = sum(port_exp_vol)\n",
        "\n",
        "print(ret_port*252)\n",
        "print(vol_port*252)"
      ]
    },
    {
      "cell_type": "code",
      "execution_count": null,
      "metadata": {
        "id": "d4_ZkuJL23bG",
        "outputId": "3bbae682-8894-4617-9290-1e485edc2abb"
      },
      "outputs": [
        {
          "data": {
            "text/plain": [
              "5343369.313278661"
            ]
          },
          "execution_count": 19,
          "metadata": {},
          "output_type": "execute_result"
        }
      ],
      "source": [
        "value_at_risk = (1000000 * vol_port*252 * 1.6449)\n",
        "value_at_risk    "
      ]
    },
    {
      "cell_type": "markdown",
      "metadata": {
        "id": "tchcw58E23bH"
      },
      "source": [
        "### Returns Plots"
      ]
    },
    {
      "cell_type": "code",
      "execution_count": null,
      "metadata": {
        "scrolled": true,
        "id": "mRqeujmt23bJ"
      },
      "outputs": [],
      "source": [
        "pps_returns.plot(subplots=True, \n",
        "        linewidth=0.5, \n",
        "        layout=(5, 2), \n",
        "        figsize=(20, 30), \n",
        "        sharex=False,\n",
        "        sharey=False\n",
        "       )\n",
        "plt.ylim([-0.2,0.2])\n",
        "plt.show()"
      ]
    },
    {
      "cell_type": "code",
      "execution_count": null,
      "metadata": {
        "scrolled": true,
        "id": "SKIJWJXi23bK"
      },
      "outputs": [],
      "source": [
        "ibov_ret.plot(figsize=(7.6,5), color='black', linewidth=0.5)"
      ]
    },
    {
      "cell_type": "markdown",
      "metadata": {
        "id": "jJFWbjGE23bK"
      },
      "source": [
        "### Efficient Frontier"
      ]
    },
    {
      "cell_type": "code",
      "execution_count": null,
      "metadata": {
        "id": "WvOFtEMA23bL",
        "outputId": "bc0593d8-b0db-4e5b-90a6-e6d2181d37ef"
      },
      "outputs": [
        {
          "data": {
            "text/plain": [
              "0.9999999999999998"
            ]
          },
          "execution_count": 20,
          "metadata": {},
          "output_type": "execute_result"
        }
      ],
      "source": [
        "# Pesos aleatórios\n",
        "\n",
        "weights = np.random.random(kaiser)\n",
        "weights /= np.sum(weights)\n",
        "weights.sum()"
      ]
    },
    {
      "cell_type": "code",
      "execution_count": null,
      "metadata": {
        "id": "eeXtMuq423bM"
      },
      "outputs": [],
      "source": [
        "def port_ret(weights):\n",
        "    return np.sum(pps_returns.mean() * weights) * 252\n",
        "    \n",
        "def port_vol(weights):\n",
        "    return np.sqrt(np.dot(weights.T, np.dot(pps_returns.cov() * 252, weights)))"
      ]
    },
    {
      "cell_type": "code",
      "execution_count": null,
      "metadata": {
        "id": "0bkLjnqH23bM"
      },
      "outputs": [],
      "source": [
        "prets = []\n",
        "pvols = []\n",
        "for p in range (2500):\n",
        "    weights = np.random.random(kaiser)\n",
        "    weights /= np.sum(weights)\n",
        "    prets.append(port_ret(weights))\n",
        "    pvols.append(port_vol(weights))\n",
        "prets = np.array(prets)\n",
        "pvols = np.array(pvols)"
      ]
    },
    {
      "cell_type": "code",
      "execution_count": null,
      "metadata": {
        "id": "jw-5WlVZ23bN",
        "outputId": "05dbd099-d9a9-4f97-ba5d-b32769a4300d"
      },
      "outputs": [
        {
          "data": {
            "text/plain": [
              "<matplotlib.colorbar.Colorbar at 0x1a7b5a964c8>"
            ]
          },
          "execution_count": 23,
          "metadata": {},
          "output_type": "execute_result"
        },
        {
          "data": {
            "image/png": "[encoded data removed]",
            "text/plain": [
              "<Figure size 720x432 with 2 Axes>"
            ]
          },
          "metadata": {
            "needs_background": "light"
          },
          "output_type": "display_data"
        }
      ],
      "source": [
        "plt.figure(figsize=(10, 6))\n",
        "plt.scatter(pvols, prets, c=prets / pvols,\n",
        "            marker='o', cmap='coolwarm')\n",
        "plt.xlabel('expected volatility')\n",
        "plt.ylabel('expected return')\n",
        "plt.colorbar(label='Sharpe ratio')"
      ]
    },
    {
      "cell_type": "markdown",
      "metadata": {
        "id": "_XsKnm3523bO"
      },
      "source": [
        "### Sharpe Index Optimization"
      ]
    },
    {
      "cell_type": "code",
      "execution_count": null,
      "metadata": {
        "id": "QmOB5PQt23bO",
        "outputId": "ffacf225-6e06-4bf3-fac9-97f5bb00f027"
      },
      "outputs": [
        {
          "data": {
            "text/plain": [
              "array([0.1, 0.1, 0.1, 0.1, 0.1, 0.1, 0.1, 0.1, 0.1, 0.1])"
            ]
          },
          "execution_count": 41,
          "metadata": {},
          "output_type": "execute_result"
        }
      ],
      "source": [
        "import scipy.optimize as optimize\n",
        "\n",
        "def min_func_sharpe(weights):\n",
        "    return -(port_ret(weights)) / port_vol(weights)\n",
        "\n",
        "cons = ({'type': 'eq', 'fun': lambda x: np.sum(x) - 1})\n",
        "bnds = tuple((0, 1) for x in range(kaiser))\n",
        "\n",
        "equal_weights = np.array(kaiser * [1. / kaiser,])\n",
        "equal_weights"
      ]
    },
    {
      "cell_type": "code",
      "execution_count": null,
      "metadata": {
        "id": "g-XqpCMb23bP",
        "outputId": "6b850caf-26e4-4ba6-b72d-466c29865ec6"
      },
      "outputs": [
        {
          "data": {
            "text/plain": [
              "-0.14122490566339502"
            ]
          },
          "execution_count": 42,
          "metadata": {},
          "output_type": "execute_result"
        }
      ],
      "source": [
        "min_func_sharpe(equal_weights)"
      ]
    },
    {
      "cell_type": "code",
      "execution_count": null,
      "metadata": {
        "id": "0SDQrleU23bP",
        "outputId": "6e2eacd8-9d6b-4f74-cdc1-e83fa47bfc07"
      },
      "outputs": [
        {
          "data": {
            "text/plain": [
              "     fun: -0.6413288115986783\n",
              "     jac: array([-1.23956054e-03,  9.38480079e-01,  2.01314688e-04, -4.37960029e-04,\n",
              "        3.81537102e-01,  6.22738034e-01,  1.01030618e-03,  9.20014232e-01,\n",
              "        1.60985440e-03,  4.40696478e-02])\n",
              " message: 'Optimization terminated successfully.'\n",
              "    nfev: 148\n",
              "     nit: 12\n",
              "    njev: 12\n",
              "  status: 0\n",
              " success: True\n",
              "       x: array([3.32710962e-01, 2.82895452e-16, 2.12412186e-01, 1.59989150e-01,\n",
              "       6.94431491e-17, 0.00000000e+00, 6.17320205e-02, 0.00000000e+00,\n",
              "       2.33155682e-01, 1.02050529e-17])"
            ]
          },
          "execution_count": 43,
          "metadata": {},
          "output_type": "execute_result"
        }
      ],
      "source": [
        "opts = optimize.minimize(min_func_sharpe, equal_weights, \n",
        "                         method='SLSQP', bounds=bnds,\n",
        "                         constraints=cons)\n",
        "opts"
      ]
    },
    {
      "cell_type": "code",
      "execution_count": null,
      "metadata": {
        "id": "E_uAIAQ723bQ",
        "outputId": "b5f10bd0-0833-47c3-caf8-174ad94579ea"
      },
      "outputs": [
        {
          "data": {
            "text/plain": [
              "array([0.333, 0.   , 0.212, 0.16 , 0.   , 0.   , 0.062, 0.   , 0.233,\n",
              "       0.   ])"
            ]
          },
          "execution_count": 44,
          "metadata": {},
          "output_type": "execute_result"
        }
      ],
      "source": [
        "# Pesos\n",
        "opts['x'].round(3)"
      ]
    },
    {
      "cell_type": "code",
      "execution_count": null,
      "metadata": {
        "id": "IkS2i9Ph23bR",
        "outputId": "5c0a833c-96d4-400e-8523-1e1a03a64894"
      },
      "outputs": [
        {
          "data": {
            "text/plain": [
              "0.061"
            ]
          },
          "execution_count": 45,
          "metadata": {},
          "output_type": "execute_result"
        }
      ],
      "source": [
        "# Retornos\n",
        "port_ret(opts['x']).round(3)"
      ]
    },
    {
      "cell_type": "code",
      "execution_count": null,
      "metadata": {
        "scrolled": true,
        "id": "6HczQqrd23bR",
        "outputId": "ce719ba5-e81e-4c0e-d454-48f56a2e0736"
      },
      "outputs": [
        {
          "data": {
            "text/plain": [
              "0.094"
            ]
          },
          "execution_count": 47,
          "metadata": {},
          "output_type": "execute_result"
        }
      ],
      "source": [
        "# Variância\n",
        "port_vol(opts['x']).round(3)"
      ]
    },
    {
      "cell_type": "code",
      "execution_count": null,
      "metadata": {
        "id": "y4XFIFk323bS",
        "outputId": "e08a82bc-c548-458f-9328-1923b9ccd173"
      },
      "outputs": [
        {
          "data": {
            "text/plain": [
              "0.6413288115986783"
            ]
          },
          "execution_count": 48,
          "metadata": {},
          "output_type": "execute_result"
        }
      ],
      "source": [
        "# Sharpe\n",
        "(port_ret(opts['x'])) / port_vol(opts['x'])"
      ]
    },
    {
      "cell_type": "code",
      "execution_count": null,
      "metadata": {
        "id": "m6KeKBdJ23bS",
        "outputId": "916887d7-bc75-4bc7-fe4c-3b684897fe05"
      },
      "outputs": [
        {
          "data": {
            "text/plain": [
              "154620.6"
            ]
          },
          "execution_count": 49,
          "metadata": {},
          "output_type": "execute_result"
        }
      ],
      "source": [
        "# VaR\n",
        "va_risk = (1000000 * port_vol(opts['x']).round(3) * 1.6449)\n",
        "va_risk   "
      ]
    },
    {
      "cell_type": "markdown",
      "metadata": {
        "id": "pT7uy3Z223bT"
      },
      "source": [
        "### Variance Optimization"
      ]
    },
    {
      "cell_type": "code",
      "execution_count": null,
      "metadata": {
        "id": "IMggNpmr23bT",
        "outputId": "fa7729dd-1e19-4693-cc6c-940fef63dce5"
      },
      "outputs": [
        {
          "data": {
            "text/plain": [
              "     fun: 0.06335375662735585\n",
              "     jac: array([0.06300626, 0.06331347, 0.06349744, 0.06304057, 0.06321491,\n",
              "       0.06330351, 0.06352205, 0.06379653, 0.06353237, 0.06324169])\n",
              " message: 'Optimization terminated successfully.'\n",
              "    nfev: 96\n",
              "     nit: 8\n",
              "    njev: 8\n",
              "  status: 0\n",
              " success: True\n",
              "       x: array([0.09140686, 0.03429691, 0.19028172, 0.15596245, 0.05599657,\n",
              "       0.09631499, 0.20083491, 0.0645558 , 0.05934898, 0.0510008 ])"
            ]
          },
          "execution_count": 50,
          "metadata": {},
          "output_type": "execute_result"
        }
      ],
      "source": [
        "optv = optimize.minimize(port_vol, equal_weights, \n",
        "                         method='SLSQP', bounds=bnds, \n",
        "                         constraints=cons)\n",
        "optv"
      ]
    },
    {
      "cell_type": "code",
      "execution_count": null,
      "metadata": {
        "id": "8OCrPzpW23bh",
        "outputId": "7fbc69aa-46c1-4d5a-e481-22fa333eb0c8"
      },
      "outputs": [
        {
          "data": {
            "text/plain": [
              "array([0.091, 0.034, 0.19 , 0.156, 0.056, 0.096, 0.201, 0.065, 0.059,\n",
              "       0.051])"
            ]
          },
          "execution_count": 51,
          "metadata": {},
          "output_type": "execute_result"
        }
      ],
      "source": [
        "# Pesos\n",
        "optv['x'].round(3)"
      ]
    },
    {
      "cell_type": "code",
      "execution_count": null,
      "metadata": {
        "id": "7EZEeM9623bi",
        "outputId": "8b9a3519-7751-49e7-f867-e14da4d5edd8"
      },
      "outputs": [
        {
          "data": {
            "text/plain": [
              "0.011"
            ]
          },
          "execution_count": 52,
          "metadata": {},
          "output_type": "execute_result"
        }
      ],
      "source": [
        "# Retorno\n",
        "port_ret(optv['x']).round(3)"
      ]
    },
    {
      "cell_type": "code",
      "execution_count": null,
      "metadata": {
        "id": "D6jRiIVD23bj",
        "outputId": "8f2bdb8c-79ce-46e1-f40b-92d57ddcf7c5"
      },
      "outputs": [
        {
          "data": {
            "text/plain": [
              "0.063"
            ]
          },
          "execution_count": 53,
          "metadata": {},
          "output_type": "execute_result"
        }
      ],
      "source": [
        "# Variância\n",
        "port_vol(optv['x']).round(3)"
      ]
    },
    {
      "cell_type": "code",
      "execution_count": null,
      "metadata": {
        "id": "KJjzSpzq23bj",
        "outputId": "200bca1c-6735-4fb4-9482-93190a9268eb"
      },
      "outputs": [
        {
          "data": {
            "text/plain": [
              "0.16906681602757226"
            ]
          },
          "execution_count": 54,
          "metadata": {},
          "output_type": "execute_result"
        }
      ],
      "source": [
        "# Sharpe\n",
        "(port_ret(optv['x'])) / port_vol(optv['x'])"
      ]
    },
    {
      "cell_type": "code",
      "execution_count": null,
      "metadata": {
        "id": "PKUDIuwO23bk",
        "outputId": "5612816b-7eb6-4d2c-ab5e-bce0ca43f796"
      },
      "outputs": [
        {
          "data": {
            "text/plain": [
              "103628.7"
            ]
          },
          "execution_count": 55,
          "metadata": {},
          "output_type": "execute_result"
        }
      ],
      "source": [
        "# VaR\n",
        "va_risk = (1000000 * port_vol(optv['x']).round(3) * 1.6449)\n",
        "va_risk"
      ]
    }
  ],
  "metadata": {
    "kernelspec": {
      "display_name": "Python 3",
      "language": "python",
      "name": "python3"
    },
    "language_info": {
      "codemirror_mode": {
        "name": "ipython",
        "version": 3
      },
      "file_extension": ".py",
      "mimetype": "text/x-python",
      "name": "python",
      "nbconvert_exporter": "python",
      "pygments_lexer": "ipython3",
      "version": "3.7.6"
    },
    "colab": {
      "name": "principal_portfolios_analysis.ipynb",
      "provenance": [],
      "collapsed_sections": [
        "jtJC6mQs23ak",
        "xE4__oqm23au",
        "IzCWj0Tf23az",
        "SLmOG_pO23a4",
        "igwoybLf23a8",
        "mkxvKTmD23bB",
        "2GSXpn7h23bE",
        "tchcw58E23bH",
        "jJFWbjGE23bK",
        "_XsKnm3523bO",
        "pT7uy3Z223bT"
      ]
    }
  },
  "nbformat": 4,
  "nbformat_minor": 0
}